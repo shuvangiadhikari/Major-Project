{
  "nbformat": 4,
  "nbformat_minor": 0,
  "metadata": {
    "colab": {
      "provenance": [],
      "authorship_tag": "ABX9TyO7HL1xJcioOzenCBE+T5US",
      "include_colab_link": true
    },
    "kernelspec": {
      "name": "python3",
      "display_name": "Python 3"
    },
    "language_info": {
      "name": "python"
    }
  },
  "cells": [
    {
      "cell_type": "markdown",
      "metadata": {
        "id": "view-in-github",
        "colab_type": "text"
      },
      "source": [
        "<a href=\"https://colab.research.google.com/github/shuvangiadhikari/Major-Project/blob/main/augmentation_final.ipynb\" target=\"_parent\"><img src=\"https://colab.research.google.com/assets/colab-badge.svg\" alt=\"Open In Colab\"/></a>"
      ]
    },
    {
      "cell_type": "code",
      "execution_count": 1,
      "metadata": {
        "colab": {
          "base_uri": "https://localhost:8080/"
        },
        "id": "1SXNesU7wjzE",
        "outputId": "0366ee68-7ed7-4e45-a7e9-bf91700c02af"
      },
      "outputs": [
        {
          "output_type": "stream",
          "name": "stdout",
          "text": [
            "Mounted at /content/drive\n"
          ]
        }
      ],
      "source": [
        "from google.colab import drive\n",
        "\n",
        "drive.mount('/content/drive')\n",
        "\n",
        "input_folder = '/content/drive/My Drive/Major Project/Preprocessed'\n",
        "output_folder = '/content/drive/My Drive/Major Project/Augmented'  # Folder to save augmented images\n",
        "\n",
        "import cv2\n",
        "import os\n",
        "import numpy as np\n",
        "import random\n",
        "from google.colab.patches import cv2_imshow\n"
      ]
    },
    {
      "cell_type": "code",
      "source": [
        "\n",
        "\n",
        "# Loading image\n",
        "Image = cv2.imread(\"/content/drive/My Drive/Major Project/Preprocessed/na.png\")\n",
        "\n",
        "if Image is None:\n",
        "    print(\"Error: Could not load image.\")\n",
        "else:\n",
        "    print(\"Image loaded successfully!\")\n",
        "    cv2_imshow(Image)\n",
        "\n",
        "# Converting image to grayscale\n",
        "Image = cv2.cvtColor(Image, cv2.COLOR_BGR2GRAY)\n",
        "\n",
        "size_info = Image.shape\n",
        "print(\"Image size:\", size_info)\n",
        "\n",
        "\n",
        "#Function to resize image\n",
        "def Resize64(image):\n",
        "  resized_image = cv2.resize(image, (64, 64))\n",
        "  return resized_image\n"
      ],
      "metadata": {
        "colab": {
          "base_uri": "https://localhost:8080/",
          "height": 359
        },
        "id": "mZzKAd7l15Ct",
        "outputId": "b721e04f-8e96-4972-e10f-b9d81a23ada3"
      },
      "execution_count": 5,
      "outputs": [
        {
          "output_type": "stream",
          "name": "stdout",
          "text": [
            "Image loaded successfully!\n"
          ]
        },
        {
          "output_type": "display_data",
          "data": {
            "text/plain": [
              "<PIL.Image.Image image mode=RGB size=298x306>"
            ],
            "image/png": "[encoded data removed]",
            "image/jpeg": "[encoded data removed]"
          },
          "metadata": {}
        },
        {
          "output_type": "stream",
          "name": "stdout",
          "text": [
            "Image size: (306, 298)\n"
          ]
        }
      ]
    },
    {
      "cell_type": "code",
      "source": [
        "#All functions\n",
        "\n",
        "#Function to resize image\n",
        "def Resize64(image):\n",
        "  resized_image = cv2.resize(image, (64, 64))\n",
        "  return resized_image\n",
        "\n",
        "#Function to rotate an image without cropping/cutting sides.\n",
        "def ModifiedWay(rotateImage, angle=30):\n",
        "\n",
        "\t# Taking image height and width\n",
        "\timgHeight, imgWidth = rotateImage.shape[0], rotateImage.shape[1]\n",
        "\n",
        "\t# Computing the centre x,y coordinates\n",
        "\tcentreY, centreX = imgHeight//2, imgWidth//2\n",
        "\n",
        "\t# Computing 2D rotation Matrix to rotate an image\n",
        "\trotationMatrix = cv2.getRotationMatrix2D((centreY, centreX), angle, 1.0)\n",
        "\n",
        "\t# Taking out sin and cos values from rotationMatrix\n",
        "\tcosofRotationMatrix = np.abs(rotationMatrix[0][0])\n",
        "\tsinofRotationMatrix = np.abs(rotationMatrix[0][1])\n",
        "\n",
        "\t#Compute new height & width of image\n",
        "\tnewImageHeight = int((imgHeight * sinofRotationMatrix) +\n",
        "\t\t\t\t\t\t(imgWidth * cosofRotationMatrix))\n",
        "\tnewImageWidth = int((imgHeight * cosofRotationMatrix) +\n",
        "\t\t\t\t\t\t(imgWidth * sinofRotationMatrix))\n",
        "\n",
        "\n",
        "\t#updating the values of rotation matrix\n",
        "\trotationMatrix[0][2] += (newImageWidth/2) - centreX\n",
        "\trotationMatrix[1][2] += (newImageHeight/2) - centreY\n",
        "\n",
        "\t# Perform actual image rotation\n",
        "\trotatingimage = cv2.warpAffine(\n",
        "\t\trotateImage, rotationMatrix, (newImageWidth, newImageHeight), borderValue=(255, 255, 255))\n",
        "\n",
        "\treturn rotatingimage\n",
        "\n",
        "def adjust_brightness(image, brightness_factor=0.6):\n",
        "\n",
        "    brightened_image = cv2.convertScaleAbs(image, alpha=brightness_factor, beta=0)\n",
        "\n",
        "    return brightened_image\n",
        "\n",
        "# Shearing Function (Compress Image)\n",
        "\n",
        "def shear_image(image, shear_factor=2):\n",
        "\n",
        "    # Get the dimensions of the original image\n",
        "    height, width = image.shape[:2]\n",
        "\n",
        "    # Define the shear matrix\n",
        "    M = np.array([\n",
        "        [1, shear_factor, 0],\n",
        "        [0, 1, 0]\n",
        "    ], dtype=np.float32)\n",
        "\n",
        "    # Calculate the new width after shearing\n",
        "    new_width = width + abs(shear_factor * height)\n",
        "\n",
        "    # Apply the affine transformation with the adjusted width\n",
        "    sheared_image = cv2.warpAffine(\n",
        "        image, M, (int(new_width), height), borderValue=(255, 255, 255)\n",
        "    )\n",
        "\n",
        "    return Resize64(sheared_image)\n",
        "\n",
        "#Function for adding Salt and pepper noise\n",
        "def salt_noise(img, noise_ratio=0.018):\n",
        "\n",
        "    img = Resize64(img)  # Resize the image to 64x64\n",
        "    row, col = img.shape\n",
        "\n",
        "    total_pixels = row * col\n",
        "    num_noise_pixels = int(noise_ratio * total_pixels)\n",
        "\n",
        "    # Adding salt noise (white pixels)\n",
        "    for _ in range(num_noise_pixels // 2):\n",
        "        y_coord = random.randint(0, row - 1)\n",
        "        x_coord = random.randint(0, col - 1)\n",
        "        img[y_coord, x_coord] = 255  # White pixel\n",
        "\n",
        "    # Adding pepper noise (black pixels)\n",
        "    for _ in range(num_noise_pixels // 2):\n",
        "        y_coord = random.randint(0, row - 1)\n",
        "        x_coord = random.randint(0, col - 1)\n",
        "        img[y_coord, x_coord] = 0  # Black pixel\n",
        "\n",
        "    return img\n",
        "\n",
        "# Function for adding Gaussian noise\n",
        "\n",
        "def gaussian_noise(img, mean=0, std_dev=15):\n",
        "\n",
        "    img = Resize64(img)  # Resize the image to 64x64\n",
        "    row, col = img.shape\n",
        "\n",
        "    # Generating Gaussian noise\n",
        "    gaussian_noise = np.random.normal(mean, std_dev, (row, col))  # Create Gaussian noise\n",
        "\n",
        "    # Adding Gaussian noise to the image\n",
        "    noisy_img = img + gaussian_noise\n",
        "\n",
        "    # Clipping values to stay within valid image pixel range [0, 255]\n",
        "    noisy_img = np.clip(noisy_img, 0, 255)\n",
        "\n",
        "    # Converting to unsigned 8-bit integer (standard image format)\n",
        "    noisy_img = noisy_img.astype(np.uint8)\n",
        "\n",
        "    return noisy_img\n"
      ],
      "metadata": {
        "id": "rAqix-dmrodU"
      },
      "execution_count": 91,
      "outputs": []
    },
    {
      "cell_type": "code",
      "source": [
        "#Function to rotate and dim the image\n",
        "def rotate_and_brighten_image(image, angle=40, brightness_factor=0.5):\n",
        "\n",
        "    rotated_image = ModifiedWay(image, angle)\n",
        "    brightened_image = adjust_brightness(rotated_image, brightness_factor)\n",
        "    brightened_image = Resize64(brightened_image)\n",
        "\n",
        "    return brightened_image\n",
        "\n",
        "#Function to rotate and shear the image\n",
        "\n",
        "def rotate_and_shear_image(image, angle=20, shear_factor=0.8):\n",
        "\n",
        "  rotated_image = ModifiedWay(image, angle)\n",
        "  sheared_image = shear_image(rotated_image, shear_factor)\n",
        "  sheared_image = Resize64(sheared_image)\n",
        "\n",
        "  return sheared_image\n",
        "\n",
        "#Function to shear and dim the image\n",
        "def shear_and_dim_image(image, shear_factor=0.5, brightness_factor=0.7):\n",
        "\n",
        "  sheared_image = shear_image(image, shear_factor)\n",
        "  dimmed_image = adjust_brightness(sheared_image, brightness_factor)\n",
        "  dimmed_image = Resize64(dimmed_image)\n",
        "\n",
        "  return dimmed_image\n",
        "\n",
        "#Function to rotate, shear and dim the image\n",
        "def rotate_shear_and_dim_image(image, angle=30, shear_factor=0.5):\n",
        "  rotate_image = ModifiedWay(image,angle)\n",
        "  sheared_image = shear_image(rotate_image, shear_factor)\n",
        "  dimmed_image = adjust_brightness(sheared_image, 0.5)\n",
        "\n",
        "  return dimmed_image\n",
        "\n",
        "#Function to shear and add gaussian noise\n",
        "def shear_and_gaussian_noise(image, shear_factor=0.5):\n",
        "\n",
        "  sheared_image = shear_image(image, shear_factor)\n",
        "  noisy_image = gaussian_noise(sheared_image)\n",
        "\n",
        "  return noisy_image\n",
        "\n",
        "#Function to shear and add salt and pepper noise\n",
        "def  shear_and_salt_noise(image, shear_factor=0.5, noise_ratio=0.018):\n",
        "    sheared_image = shear_image(image, shear_factor)\n",
        "    noisy_image = salt_noise(sheared_image, noise_ratio)\n",
        "\n",
        "    return noisy_image\n",
        "\n",
        "#Function to rotateand add gaussian noise\n",
        "def rotate_and_gaussian_noise(image, angle=30):\n",
        "\n",
        "    rotated_image = ModifiedWay(image, angle)\n",
        "    noisy_image = gaussian_noise(rotated_image)\n",
        "\n",
        "    return noisy_image\n",
        "\n",
        "#\n",
        "cv2_imshow(Resize64(Image))\n",
        "cv2_imshow(Resize64(ModifiedWay(Image, 30)))\n",
        "cv2_imshow(Resize64(adjust_brightness(Image, 0.7)))\n",
        "cv2_imshow(Resize64(shear_image(Image, 0.5)))\n",
        "cv2_imshow(salt_noise(Image))\n",
        "cv2_imshow(gaussian_noise(Image))\n",
        "cv2_imshow(rotate_and_brighten_image(Image))\n",
        "cv2_imshow(rotate_and_shear_image(Image))\n",
        "cv2_imshow(shear_and_dim_image(Image))\n",
        "cv2_imshow(rotate_shear_and_dim_image(Image))\n",
        "cv2_imshow(shear_and_gaussian_noise(Image))\n",
        "cv2_imshow(shear_and_salt_noise(Image))\n",
        "cv2_imshow(rotate_and_gaussian_noise(Image))\n",
        "\n",
        "\n",
        "\n",
        "\n",
        "\n"
      ],
      "metadata": {
        "id": "908c6no6OWpp",
        "colab": {
          "base_uri": "https://localhost:8080/",
          "height": 849
        },
        "outputId": "b8766a52-00cc-4ada-f141-84c8a7af78cf"
      },
      "execution_count": 92,
      "outputs": [
        {
          "output_type": "display_data",
          "data": {
            "text/plain": [
              "<PIL.Image.Image image mode=L size=64x64>"
            ],
            "image/png": "[encoded data removed]",
            "image/jpeg": "[encoded data removed]"
          },
          "metadata": {}
        },
        {
          "output_type": "display_data",
          "data": {
            "text/plain": [
              "<PIL.Image.Image image mode=L size=64x64>"
            ],
            "image/png": "[encoded data removed]",
            "image/jpeg": "[encoded data removed]"
          },
          "metadata": {}
        },
        {
          "output_type": "display_data",
          "data": {
            "text/plain": [
              "<PIL.Image.Image image mode=L size=64x64>"
            ],
            "image/png": "[encoded data removed]",
            "image/jpeg": "[encoded data removed]"
          },
          "metadata": {}
        },
        {
          "output_type": "display_data",
          "data": {
            "text/plain": [
              "<PIL.Image.Image image mode=L size=64x64>"
            ],
            "image/png": "[encoded data removed]",
            "image/jpeg": "[encoded data removed]"
          },
          "metadata": {}
        },
        {
          "output_type": "display_data",
          "data": {
            "text/plain": [
              "<PIL.Image.Image image mode=L size=64x64>"
            ],
            "image/png": "[encoded data removed]",
            "image/jpeg": "[encoded data removed]"
          },
          "metadata": {}
        },
        {
          "output_type": "display_data",
          "data": {
            "text/plain": [
              "<PIL.Image.Image image mode=L size=64x64>"
            ],
            "image/png": "[encoded data removed]",
            "image/jpeg": "[encoded data removed]"
          },
          "metadata": {}
        },
        {
          "output_type": "display_data",
          "data": {
            "text/plain": [
              "<PIL.Image.Image image mode=L size=64x64>"
            ],
            "image/png": "[encoded data removed]",
            "image/jpeg": "[encoded data removed]"
          },
          "metadata": {}
        },
        {
          "output_type": "display_data",
          "data": {
            "text/plain": [
              "<PIL.Image.Image image mode=L size=64x64>"
            ],
            "image/png": "[encoded data removed]",
            "image/jpeg": "[encoded data removed]"
          },
          "metadata": {}
        },
        {
          "output_type": "display_data",
          "data": {
            "text/plain": [
              "<PIL.Image.Image image mode=L size=64x64>"
            ],
            "image/png": "[encoded data removed]",
            "image/jpeg": "[encoded data removed]"
          },
          "metadata": {}
        },
        {
          "output_type": "display_data",
          "data": {
            "text/plain": [
              "<PIL.Image.Image image mode=L size=64x64>"
            ],
            "image/png": "[encoded data removed]",
            "image/jpeg": "[encoded data removed]"
          },
          "metadata": {}
        },
        {
          "output_type": "display_data",
          "data": {
            "text/plain": [
              "<PIL.Image.Image image mode=L size=64x64>"
            ],
            "image/png": "[encoded data removed]",
            "image/jpeg": "[encoded data removed]"
          },
          "metadata": {}
        },
        {
          "output_type": "display_data",
          "data": {
            "text/plain": [
              "<PIL.Image.Image image mode=L size=64x64>"
            ],
            "image/png": "[encoded data removed]",
            "image/jpeg": "[encoded data removed]"
          },
          "metadata": {}
        },
        {
          "output_type": "display_data",
          "data": {
            "text/plain": [
              "<PIL.Image.Image image mode=L size=64x64>"
            ],
            "image/png": "[encoded data removed]",
            "image/jpeg": "[encoded data removed]"
          },
          "metadata": {}
        }
      ]
    },
    {
      "cell_type": "markdown",
      "source": [],
      "metadata": {
        "id": "ejd0cqbfqMZP"
      }
    },
    {
      "cell_type": "code",
      "source": [
        "!git status\n"
      ],
      "metadata": {
        "colab": {
          "base_uri": "https://localhost:8080/"
        },
        "id": "8X-marvBk0aw",
        "outputId": "219a4f94-f074-41e5-a115-43d1795611eb"
      },
      "execution_count": 93,
      "outputs": [
        {
          "output_type": "stream",
          "name": "stdout",
          "text": [
            "fatal: not a git repository (or any of the parent directories): .git\n"
          ]
        }
      ]
    },
    {
      "cell_type": "code",
      "source": [],
      "metadata": {
        "id": "edKRCQhmFnbc"
      },
      "execution_count": null,
      "outputs": []
    }
  ]
}